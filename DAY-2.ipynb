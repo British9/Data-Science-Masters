{
 "cells": [
  {
   "cell_type": "code",
   "execution_count": null,
   "id": "77165cf3-af5e-432b-a926-f56a284fc817",
   "metadata": {},
   "outputs": [],
   "source": [
    "a=10\n",
    "a='c'"
   ]
  },
  {
   "cell_type": "code",
   "execution_count": 2,
   "id": "f63e02c9-99d5-498d-a54b-1108cb83bb7b",
   "metadata": {},
   "outputs": [
    {
     "data": {
      "text/plain": [
       "str"
      ]
     },
     "execution_count": 2,
     "metadata": {},
     "output_type": "execute_result"
    }
   ],
   "source": [
    "type('a')"
   ]
  },
  {
   "cell_type": "code",
   "execution_count": 3,
   "id": "e8fd15bb-f8dc-4902-b291-348d5f42f964",
   "metadata": {},
   "outputs": [
    {
     "data": {
      "text/plain": [
       "123"
      ]
     },
     "execution_count": 3,
     "metadata": {},
     "output_type": "execute_result"
    }
   ],
   "source": [
    "int('123')"
   ]
  },
  {
   "cell_type": "code",
   "execution_count": 4,
   "id": "da90cfd1-7d7c-4a14-84c4-02d3bf156d2f",
   "metadata": {},
   "outputs": [
    {
     "name": "stdout",
     "output_type": "stream",
     "text": [
      "my age is: 17\n"
     ]
    }
   ],
   "source": [
    "age=17\n",
    "print(\"my age is:\",age)"
   ]
  },
  {
   "cell_type": "code",
   "execution_count": 6,
   "id": "b47d6aa7-6e74-4410-8866-1378572a0e8d",
   "metadata": {},
   "outputs": [
    {
     "name": "stdout",
     "output_type": "stream",
     "text": [
      "my age is:(age)\n"
     ]
    }
   ],
   "source": [
    "print(\"my age is:(age)\")"
   ]
  },
  {
   "cell_type": "code",
   "execution_count": 7,
   "id": "541976fd-67b7-4be9-b348-ab6594248d40",
   "metadata": {},
   "outputs": [
    {
     "name": "stdout",
     "output_type": "stream",
     "text": [
      "my age is:17\n"
     ]
    }
   ],
   "source": [
    "## f string {prints variable without using comas}\n",
    "print(f\"my age is:{age}\")"
   ]
  },
  {
   "cell_type": "code",
   "execution_count": 25,
   "id": "224a216c-e905-4bca-893d-9be4138fb3ca",
   "metadata": {},
   "outputs": [
    {
     "name": "stdout",
     "output_type": "stream",
     "text": [
      "my name is british and my age is 17\n"
     ]
    }
   ],
   "source": [
    "## format()\n",
    "name=\"british\"\n",
    "age=17\n",
    "print(\"my name is {} and my age is {}\".format(name,age))"
   ]
  },
  {
   "cell_type": "code",
   "execution_count": 27,
   "id": "37d3bbb6-fa02-4c87-a19d-908dcd66a337",
   "metadata": {},
   "outputs": [
    {
     "name": "stdout",
     "output_type": "stream",
     "text": [
      "my name is british and my age is 17\n"
     ]
    }
   ],
   "source": [
    "# placeholder\n",
    "name=\"british\"\n",
    "age=17\n",
    "print(\"my name is {firstname} and my age is {firstage}\".format(firstage=age,firstname=name))"
   ]
  },
  {
   "cell_type": "code",
   "execution_count": 26,
   "id": "a2f44c2c-9be0-46ea-a1e5-fed90ec9639c",
   "metadata": {},
   "outputs": [
    {
     "name": "stdout",
     "output_type": "stream",
     "text": [
      "my age is 17 and i have completed:my SEE with the name of british\n"
     ]
    }
   ],
   "source": [
    "name=\"british\"\n",
    "age=17\n",
    "degree=\"SEE\"\n",
    "print(\"my age is {} and i have completed:my {} with the name of {}\".format(age,degree,name))"
   ]
  },
  {
   "cell_type": "code",
   "execution_count": 30,
   "id": "64e1764e-b3be-4905-9b2d-0fe3cd6e73b6",
   "metadata": {},
   "outputs": [
    {
     "name": "stdout",
     "output_type": "stream",
     "text": [
      "my name is j.cole. My age is 38 and my best album is 2014 forest hills drive.\n"
     ]
    }
   ],
   "source": [
    "name=\"j.cole\"\n",
    "age=38\n",
    "album=\"2014 forest hills drive\"\n",
    "print(\"my name is {}. My age is {} and my best album is {}.\".format(name,age,album))"
   ]
  },
  {
   "cell_type": "code",
   "execution_count": 31,
   "id": "fcaaf39c-2739-4a6f-97cb-7d65b2219c0e",
   "metadata": {},
   "outputs": [],
   "source": [
    "# control flow\n",
    "## decision makking statements"
   ]
  },
  {
   "cell_type": "code",
   "execution_count": null,
   "id": "5f1a5e65-fe9e-4cae-b04f-1ca7d39059c1",
   "metadata": {},
   "outputs": [],
   "source": []
  },
  {
   "cell_type": "code",
   "execution_count": 33,
   "id": "7115b1f2-8733-4fe1-8bd5-866c2b371ee6",
   "metadata": {},
   "outputs": [
    {
     "name": "stdout",
     "output_type": "stream",
     "text": [
      "you are eligible to vote\n"
     ]
    }
   ],
   "source": [
    "## if statement \n",
    "age=18\n",
    "if age>=18:\n",
    "    print(\"you are eligible to vote\")\n"
   ]
  },
  {
   "cell_type": "code",
   "execution_count": 35,
   "id": "0cf53274-6693-4669-af76-1708183b3911",
   "metadata": {},
   "outputs": [
    {
     "name": "stdout",
     "output_type": "stream",
     "text": [
      "you are eligible to vote\n"
     ]
    }
   ],
   "source": [
    "## if statement \n",
    "age=17\n",
    "if age<=18:\n",
    "    print(\"you are eligible to vote\")"
   ]
  },
  {
   "cell_type": "code",
   "execution_count": 41,
   "id": "bf3ed112-ef86-4715-aeee-167e3cadea9d",
   "metadata": {},
   "outputs": [
    {
     "name": "stdout",
     "output_type": "stream",
     "text": [
      "you are not eligible to vote\n"
     ]
    }
   ],
   "source": [
    "## if statement \n",
    "age=19\n",
    "if age>=18:\n",
    "    print(\"you are not eligible to vote\")"
   ]
  },
  {
   "cell_type": "code",
   "execution_count": 42,
   "id": "4b69efeb-bda5-42da-ab00-b19a1c769865",
   "metadata": {},
   "outputs": [
    {
     "name": "stdin",
     "output_type": "stream",
     "text": [
      "enter the name british\n"
     ]
    }
   ],
   "source": [
    "name=input(\"enter the name\")"
   ]
  },
  {
   "cell_type": "code",
   "execution_count": 43,
   "id": "2cfc5c43-e741-4e8f-971f-f434e2e5a7fa",
   "metadata": {},
   "outputs": [
    {
     "data": {
      "text/plain": [
       "'british'"
      ]
     },
     "execution_count": 43,
     "metadata": {},
     "output_type": "execute_result"
    }
   ],
   "source": [
    "name"
   ]
  },
  {
   "cell_type": "code",
   "execution_count": 45,
   "id": "8f2efee7-9f45-4a8a-b2c0-544dcc80c5f9",
   "metadata": {},
   "outputs": [
    {
     "name": "stdin",
     "output_type": "stream",
     "text": [
      "enter your age 17\n"
     ]
    }
   ],
   "source": [
    "age=int(input(\"enter your age\"))"
   ]
  },
  {
   "cell_type": "code",
   "execution_count": 46,
   "id": "a1bd081c-fcbf-4990-9a37-2809f9541baa",
   "metadata": {},
   "outputs": [
    {
     "data": {
      "text/plain": [
       "17"
      ]
     },
     "execution_count": 46,
     "metadata": {},
     "output_type": "execute_result"
    }
   ],
   "source": [
    "age"
   ]
  },
  {
   "cell_type": "markdown",
   "id": "c760d07e-7e90-4e3a-ba54-607a48c21127",
   "metadata": {},
   "source": [
    "## task"
   ]
  },
  {
   "cell_type": "code",
   "execution_count": 54,
   "id": "abeea85c-a21a-4bce-b096-3626415544f9",
   "metadata": {},
   "outputs": [
    {
     "name": "stdout",
     "output_type": "stream",
     "text": [
      "you are not a young blood\n"
     ]
    }
   ],
   "source": [
    "## take\n",
    "age=20\n",
    "if age>=18:\n",
    "    print(\"you are not a young blood\")"
   ]
  },
  {
   "cell_type": "code",
   "execution_count": 55,
   "id": "8c4275eb-d38d-4d94-97f1-4b6e0697faa0",
   "metadata": {},
   "outputs": [
    {
     "name": "stdout",
     "output_type": "stream",
     "text": [
      "you are a young blood\n"
     ]
    }
   ],
   "source": [
    "age=17\n",
    "if age<=45:\n",
    "    print(\"you are a young blood\")"
   ]
  },
  {
   "cell_type": "code",
   "execution_count": 56,
   "id": "f4d243bb-2c5b-4a36-8ce1-9f9231235ea2",
   "metadata": {},
   "outputs": [
    {
     "name": "stdin",
     "output_type": "stream",
     "text": [
      "your age is 33\n"
     ]
    },
    {
     "name": "stdout",
     "output_type": "stream",
     "text": [
      "you are a young blood\n"
     ]
    }
   ],
   "source": [
    "age=int(input(\"your age is\"))\n",
    "if age>=18 and age<=45:\n",
    "    print(\"you are a young blood\")"
   ]
  },
  {
   "cell_type": "code",
   "execution_count": 57,
   "id": "1b962ec3-5ed5-4a15-aba1-358bcaa24ff5",
   "metadata": {},
   "outputs": [
    {
     "name": "stdin",
     "output_type": "stream",
     "text": [
      "your age is 17\n"
     ]
    }
   ],
   "source": [
    "age=int(input(\"your age is\"))\n",
    "if age>=18 and age<=45:\n",
    "    print(\"you are a young blood\")"
   ]
  },
  {
   "cell_type": "code",
   "execution_count": 58,
   "id": "45fd31c6-83c2-4977-a425-c14379c5d0c2",
   "metadata": {},
   "outputs": [
    {
     "name": "stdin",
     "output_type": "stream",
     "text": [
      "your age is 45\n"
     ]
    },
    {
     "name": "stdout",
     "output_type": "stream",
     "text": [
      "you are a young blood\n"
     ]
    }
   ],
   "source": [
    "age=int(input(\"your age is\"))\n",
    "if age>=18 and age<=45:\n",
    "    print(\"you are a young blood\")"
   ]
  },
  {
   "cell_type": "code",
   "execution_count": 61,
   "id": "e12ad69f-8e74-4e14-a658-79a001dba1d9",
   "metadata": {},
   "outputs": [
    {
     "name": "stdin",
     "output_type": "stream",
     "text": [
      "your age is 35\n"
     ]
    },
    {
     "name": "stdout",
     "output_type": "stream",
     "text": [
      "you are a young blood\n"
     ]
    }
   ],
   "source": [
    "age=int(input(\"your age is\"))\n",
    "if age>=28 and age<=45:\n",
    "    print(\"you are a young blood\")\n",
    "else:\n",
    "    print(\"you are gay\")\n",
    "    "
   ]
  },
  {
   "cell_type": "code",
   "execution_count": 62,
   "id": "2c8a46a0-51e1-4b6d-a8c5-c187e96f2e0b",
   "metadata": {},
   "outputs": [
    {
     "name": "stdin",
     "output_type": "stream",
     "text": [
      "your age is 27\n"
     ]
    },
    {
     "name": "stdout",
     "output_type": "stream",
     "text": [
      "you are gay\n"
     ]
    }
   ],
   "source": [
    "age=int(input(\"your age is\"))\n",
    "if age>=28 and age<=45:\n",
    "    print(\"you are a young blood\")\n",
    "else:\n",
    "    print(\"you are gay\")\n",
    "    "
   ]
  },
  {
   "cell_type": "code",
   "execution_count": 63,
   "id": "e6a2eef4-b829-4dc5-9512-69bf723536e6",
   "metadata": {},
   "outputs": [
    {
     "name": "stdin",
     "output_type": "stream",
     "text": [
      "your age is 66\n"
     ]
    },
    {
     "name": "stdout",
     "output_type": "stream",
     "text": [
      "you are not a young blood\n"
     ]
    }
   ],
   "source": [
    "age=int(input(\"your age is\"))\n",
    "if age>=28 and age<=45:\n",
    "    print(\"you are a young blood\")\n",
    "else:\n",
    "    print(\"you are not a young blood\")\n",
    "    "
   ]
  },
  {
   "cell_type": "code",
   "execution_count": null,
   "id": "2058501e-7cd2-4604-8613-d50ce1f81948",
   "metadata": {},
   "outputs": [],
   "source": []
  },
  {
   "cell_type": "code",
   "execution_count": 64,
   "id": "0c68df81-3008-4990-8aa7-bf8c9d2deae7",
   "metadata": {},
   "outputs": [
    {
     "name": "stdin",
     "output_type": "stream",
     "text": [
      "enter the price 6000\n"
     ]
    },
    {
     "name": "stdout",
     "output_type": "stream",
     "text": [
      "the price of the product is3600.0\n"
     ]
    }
   ],
   "source": [
    "product_price=int(input(\"enter the price\"))\n",
    "if product_price>1000:\n",
    "    print(\"the price of the product is{}\".format(product_price*0.6))\n",
    "else:\n",
    "    print(\"the price of the product is{}\".format(product_price*0.45))\n",
    "    "
   ]
  },
  {
   "cell_type": "code",
   "execution_count": 65,
   "id": "77285a24-fb45-49b3-9534-37c2d86417c1",
   "metadata": {},
   "outputs": [
    {
     "name": "stdin",
     "output_type": "stream",
     "text": [
      "enter the price 900\n"
     ]
    },
    {
     "name": "stdout",
     "output_type": "stream",
     "text": [
      "the price of the product is405.0\n"
     ]
    }
   ],
   "source": [
    "product_price=int(input(\"enter the price\"))\n",
    "if product_price>1000:\n",
    "    print(\"the price of the product is{}\".format(product_price*0.6))\n",
    "else:\n",
    "    print(\"the price of the product is{}\".format(product_price*0.45))\n",
    "    "
   ]
  },
  {
   "cell_type": "code",
   "execution_count": null,
   "id": "62643707-b65c-445b-b59e-30704bc8ab83",
   "metadata": {},
   "outputs": [],
   "source": []
  },
  {
   "cell_type": "code",
   "execution_count": null,
   "id": "e083642e-5302-4569-8c14-9fb79f1661f5",
   "metadata": {},
   "outputs": [],
   "source": []
  },
  {
   "cell_type": "code",
   "execution_count": null,
   "id": "60873ba5-c2be-4289-b46a-f426090f226f",
   "metadata": {},
   "outputs": [],
   "source": []
  },
  {
   "cell_type": "code",
   "execution_count": null,
   "id": "a2384efe-6b56-45af-bb64-709409e9f862",
   "metadata": {},
   "outputs": [],
   "source": []
  },
  {
   "cell_type": "code",
   "execution_count": null,
   "id": "0144bf20-ee36-4be5-88ff-026c6f80f5cc",
   "metadata": {},
   "outputs": [],
   "source": []
  },
  {
   "cell_type": "code",
   "execution_count": null,
   "id": "f48a41a6-d449-4b39-8407-ece52946955d",
   "metadata": {},
   "outputs": [],
   "source": []
  },
  {
   "cell_type": "code",
   "execution_count": null,
   "id": "e1e350d8-a11e-45ca-9282-2c83e4b06524",
   "metadata": {},
   "outputs": [],
   "source": []
  },
  {
   "cell_type": "code",
   "execution_count": null,
   "id": "58f2fef0-8e5e-4e0e-9785-37e09c36d693",
   "metadata": {},
   "outputs": [],
   "source": []
  },
  {
   "cell_type": "code",
   "execution_count": null,
   "id": "9765122d-d2f7-439f-8bc7-dcc53b91b7e0",
   "metadata": {},
   "outputs": [],
   "source": []
  },
  {
   "cell_type": "code",
   "execution_count": null,
   "id": "aeb46cfa-ed15-4325-b737-b5cec4b3c98d",
   "metadata": {},
   "outputs": [],
   "source": []
  },
  {
   "cell_type": "code",
   "execution_count": null,
   "id": "afdd1f63-3a3c-493b-9cb9-ca5a607b2d08",
   "metadata": {},
   "outputs": [],
   "source": []
  },
  {
   "cell_type": "code",
   "execution_count": null,
   "id": "f76823d4-5678-4f6b-b7c7-e0b320b32ac3",
   "metadata": {},
   "outputs": [],
   "source": []
  },
  {
   "cell_type": "code",
   "execution_count": null,
   "id": "8291a93d-7307-4790-8a36-5f13ff12a33e",
   "metadata": {},
   "outputs": [],
   "source": []
  },
  {
   "cell_type": "code",
   "execution_count": null,
   "id": "a64514b4-dc66-4ef7-8b79-0a339da8c280",
   "metadata": {},
   "outputs": [],
   "source": []
  },
  {
   "cell_type": "code",
   "execution_count": null,
   "id": "a78dcb2c-0fb8-4dbf-85f4-1021dafede16",
   "metadata": {},
   "outputs": [],
   "source": []
  },
  {
   "cell_type": "code",
   "execution_count": null,
   "id": "ad322788-e22a-48d9-b702-5111a685c05f",
   "metadata": {},
   "outputs": [],
   "source": []
  },
  {
   "cell_type": "code",
   "execution_count": null,
   "id": "ae1665d2-9f26-4069-9a5d-5c0d42a4e407",
   "metadata": {},
   "outputs": [],
   "source": []
  },
  {
   "cell_type": "code",
   "execution_count": null,
   "id": "54aa5509-4209-4b7b-8585-948a263b4112",
   "metadata": {},
   "outputs": [],
   "source": []
  }
 ],
 "metadata": {
  "kernelspec": {
   "display_name": "Python 3 (ipykernel)",
   "language": "python",
   "name": "python3"
  },
  "language_info": {
   "codemirror_mode": {
    "name": "ipython",
    "version": 3
   },
   "file_extension": ".py",
   "mimetype": "text/x-python",
   "name": "python",
   "nbconvert_exporter": "python",
   "pygments_lexer": "ipython3",
   "version": "3.10.8"
  }
 },
 "nbformat": 4,
 "nbformat_minor": 5
}
