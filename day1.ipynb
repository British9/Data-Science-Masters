{
 "cells": [
  {
   "cell_type": "code",
   "execution_count": 14,
   "id": "a208f532-5e3a-4f33-84b1-b0909252bf90",
   "metadata": {},
   "outputs": [],
   "source": [
    "a=10"
   ]
  },
  {
   "cell_type": "code",
   "execution_count": 15,
   "id": "45b64d6c-293d-47c0-ad52-98ce8009b7a3",
   "metadata": {},
   "outputs": [
    {
     "data": {
      "text/plain": [
       "10"
      ]
     },
     "execution_count": 15,
     "metadata": {},
     "output_type": "execute_result"
    }
   ],
   "source": [
    "a"
   ]
  },
  {
   "cell_type": "code",
   "execution_count": 16,
   "id": "d08dc724-093d-4ec2-b791-eda1f4d1b2b1",
   "metadata": {},
   "outputs": [],
   "source": [
    "## this is single line comment \n",
    "## data science\n",
    "# hdjfnc\n",
    "a=122"
   ]
  },
  {
   "cell_type": "code",
   "execution_count": 19,
   "id": "8dc87951-424c-41eb-a3ba-de611e193cf6",
   "metadata": {},
   "outputs": [
    {
     "data": {
      "text/plain": [
       "69"
      ]
     },
     "execution_count": 19,
     "metadata": {},
     "output_type": "execute_result"
    }
   ],
   "source": [
    "\"\"\"\n",
    "this is mulitiline comments \n",
    "data analyst \n",
    "nnnnjkwmdn\n",
    "mgmegneg\n",
    "gmergm\n",
    "this an example\n",
    "\"\"\"\n",
    "a=69\n",
    "a"
   ]
  },
  {
   "cell_type": "markdown",
   "id": "5511aec4-bd4f-492f-b04e-dd3bb7c324e4",
   "metadata": {},
   "source": [
    "# This is an example of markdown whis is used for headlines\n",
    "# hello \n",
    "## hello1\n",
    "### 21 savage "
   ]
  },
  {
   "cell_type": "code",
   "execution_count": 22,
   "id": "89a30d88-4837-43a8-82ae-f2a1f6c793a4",
   "metadata": {},
   "outputs": [
    {
     "data": {
      "text/plain": [
       "18"
      ]
     },
     "execution_count": 22,
     "metadata": {},
     "output_type": "execute_result"
    }
   ],
   "source": [
    "9+9"
   ]
  },
  {
   "cell_type": "markdown",
   "id": "89fa091f-2f16-4552-badb-adc0e8ac91f5",
   "metadata": {},
   "source": [
    "## print makes sure that it is an output console"
   ]
  },
  {
   "cell_type": "code",
   "execution_count": 23,
   "id": "81863d0b-74a0-4932-b8d5-dc7229065423",
   "metadata": {},
   "outputs": [
    {
     "name": "stdout",
     "output_type": "stream",
     "text": [
      "18\n"
     ]
    }
   ],
   "source": [
    "print(9+9)"
   ]
  },
  {
   "cell_type": "code",
   "execution_count": 24,
   "id": "d543ccc1-81bb-4846-b473-eeacc2592a6a",
   "metadata": {},
   "outputs": [
    {
     "name": "stdout",
     "output_type": "stream",
     "text": [
      "my name is british \n",
      " i am hero\n"
     ]
    }
   ],
   "source": [
    "print(\"my name is british \\n i am hero\")"
   ]
  },
  {
   "cell_type": "markdown",
   "id": "0012c7f9-52f6-4b2f-a3ba-a7b056797eef",
   "metadata": {},
   "source": [
    "# varaible assignment"
   ]
  },
  {
   "cell_type": "code",
   "execution_count": 27,
   "id": "d37703b4-b7eb-4edc-aaef-b7b918d32afd",
   "metadata": {},
   "outputs": [],
   "source": [
    "name=\"future\" \n",
    "genre=\"hip-hop\""
   ]
  },
  {
   "cell_type": "code",
   "execution_count": 28,
   "id": "b3d205c2-8837-47c0-889b-57ebe6120087",
   "metadata": {},
   "outputs": [
    {
     "data": {
      "text/plain": [
       "'future'"
      ]
     },
     "execution_count": 28,
     "metadata": {},
     "output_type": "execute_result"
    }
   ],
   "source": [
    "name"
   ]
  },
  {
   "cell_type": "code",
   "execution_count": 29,
   "id": "c5d79781-17ac-4a79-95ec-c752bd80cf08",
   "metadata": {},
   "outputs": [
    {
     "data": {
      "text/plain": [
       "'hip-hop'"
      ]
     },
     "execution_count": 29,
     "metadata": {},
     "output_type": "execute_result"
    }
   ],
   "source": [
    "genre"
   ]
  },
  {
   "cell_type": "code",
   "execution_count": 30,
   "id": "fa62525e-c490-4dfe-aa7e-83156942dc90",
   "metadata": {},
   "outputs": [
    {
     "data": {
      "text/plain": [
       "str"
      ]
     },
     "execution_count": 30,
     "metadata": {},
     "output_type": "execute_result"
    }
   ],
   "source": [
    "type(\"\")"
   ]
  },
  {
   "cell_type": "code",
   "execution_count": 31,
   "id": "455edaa5-b82a-4c49-8cc4-5a722a176d05",
   "metadata": {},
   "outputs": [
    {
     "data": {
      "text/plain": [
       "int"
      ]
     },
     "execution_count": 31,
     "metadata": {},
     "output_type": "execute_result"
    }
   ],
   "source": [
    "type(2)"
   ]
  },
  {
   "cell_type": "code",
   "execution_count": 33,
   "id": "73a8a15d-e1b1-4806-b68e-5afed1f310be",
   "metadata": {},
   "outputs": [
    {
     "data": {
      "text/plain": [
       "str"
      ]
     },
     "execution_count": 33,
     "metadata": {},
     "output_type": "execute_result"
    }
   ],
   "source": [
    "type(\"ram\")"
   ]
  },
  {
   "cell_type": "code",
   "execution_count": 35,
   "id": "f5bcfb47-ca34-40c0-96c4-2a070c81418d",
   "metadata": {},
   "outputs": [],
   "source": [
    "number=900"
   ]
  },
  {
   "cell_type": "code",
   "execution_count": 36,
   "id": "5ca9e7d0-2bd3-451f-ace6-62f74ce90ecd",
   "metadata": {},
   "outputs": [
    {
     "data": {
      "text/plain": [
       "int"
      ]
     },
     "execution_count": 36,
     "metadata": {},
     "output_type": "execute_result"
    }
   ],
   "source": [
    "type(number)"
   ]
  },
  {
   "cell_type": "code",
   "execution_count": 42,
   "id": "30e54f16-36c9-474d-bba7-e14d09e8be7f",
   "metadata": {},
   "outputs": [],
   "source": [
    "decimal_num=4.5"
   ]
  },
  {
   "cell_type": "code",
   "execution_count": 43,
   "id": "ff43518e-7c95-47a6-807e-372a5b52aa28",
   "metadata": {},
   "outputs": [
    {
     "data": {
      "text/plain": [
       "4.5"
      ]
     },
     "execution_count": 43,
     "metadata": {},
     "output_type": "execute_result"
    }
   ],
   "source": [
    "decimal_num"
   ]
  },
  {
   "cell_type": "code",
   "execution_count": 44,
   "id": "4fc2b7d2-7251-4def-a535-9559be9ea3aa",
   "metadata": {},
   "outputs": [
    {
     "data": {
      "text/plain": [
       "float"
      ]
     },
     "execution_count": 44,
     "metadata": {},
     "output_type": "execute_result"
    }
   ],
   "source": [
    "type(decimal_num)"
   ]
  },
  {
   "cell_type": "code",
   "execution_count": 45,
   "id": "4839e501-28bf-4032-8c2c-e14b20a408c0",
   "metadata": {},
   "outputs": [
    {
     "data": {
      "text/plain": [
       "float"
      ]
     },
     "execution_count": 45,
     "metadata": {},
     "output_type": "execute_result"
    }
   ],
   "source": [
    "type(3.9)"
   ]
  },
  {
   "cell_type": "code",
   "execution_count": null,
   "id": "f0ce9f66-e670-4887-8172-dd6062894c9a",
   "metadata": {},
   "outputs": [],
   "source": [
    "## dont start the variabl name with number\n",
    "1a\n",
    "3answer"
   ]
  },
  {
   "cell_type": "code",
   "execution_count": 47,
   "id": "74a4a192-f7d4-4f37-9e7e-14dd9681188f",
   "metadata": {},
   "outputs": [
    {
     "name": "stdout",
     "output_type": "stream",
     "text": [
      "21 savage\n",
      "hip-hop\n"
     ]
    }
   ],
   "source": [
    "## variables are case sensative\n",
    "name=\"21 savage\"\n",
    "genre=\"hip-hop\"\n",
    "print(name)\n",
    "print(genre)"
   ]
  },
  {
   "cell_type": "code",
   "execution_count": null,
   "id": "062cebcd-034d-4685-a44c-8083645e9992",
   "metadata": {},
   "outputs": [],
   "source": [
    "# reserved keywords\n",
    "'''\n",
    "int,float,len,complex,bool,str,return,yield\n",
    "'''"
   ]
  },
  {
   "cell_type": "code",
   "execution_count": 2,
   "id": "1c3df360-cf58-426f-a33c-daea677c26f8",
   "metadata": {},
   "outputs": [
    {
     "data": {
      "text/plain": [
       "False"
      ]
     },
     "execution_count": 2,
     "metadata": {},
     "output_type": "execute_result"
    }
   ],
   "source": [
    "True and False"
   ]
  },
  {
   "cell_type": "code",
   "execution_count": 3,
   "id": "b9ca5c17-6193-4bed-8cbb-2aefcab6bae6",
   "metadata": {},
   "outputs": [
    {
     "data": {
      "text/plain": [
       "True"
      ]
     },
     "execution_count": 3,
     "metadata": {},
     "output_type": "execute_result"
    }
   ],
   "source": [
    "True or False"
   ]
  },
  {
   "cell_type": "code",
   "execution_count": 5,
   "id": "36cd4202-9b3e-4951-a5b5-74f1e7b3bcae",
   "metadata": {},
   "outputs": [
    {
     "data": {
      "text/plain": [
       "False"
      ]
     },
     "execution_count": 5,
     "metadata": {},
     "output_type": "execute_result"
    }
   ],
   "source": [
    "not True"
   ]
  },
  {
   "cell_type": "code",
   "execution_count": 6,
   "id": "d74470ec-b4da-43cf-af34-cf0e5f077223",
   "metadata": {},
   "outputs": [
    {
     "data": {
      "text/plain": [
       "True"
      ]
     },
     "execution_count": 6,
     "metadata": {},
     "output_type": "execute_result"
    }
   ],
   "source": [
    "not False"
   ]
  },
  {
   "cell_type": "code",
   "execution_count": 7,
   "id": "0d8867e6-4de1-4d2d-9ae2-24e3ae1f4920",
   "metadata": {},
   "outputs": [
    {
     "data": {
      "text/plain": [
       "bool"
      ]
     },
     "execution_count": 7,
     "metadata": {},
     "output_type": "execute_result"
    }
   ],
   "source": [
    "type(not False)"
   ]
  },
  {
   "cell_type": "code",
   "execution_count": 8,
   "id": "66bcd189-fac7-4c12-a0b9-88efb9ce1dcb",
   "metadata": {},
   "outputs": [
    {
     "data": {
      "text/plain": [
       "False"
      ]
     },
     "execution_count": 8,
     "metadata": {},
     "output_type": "execute_result"
    }
   ],
   "source": [
    "bool(0)"
   ]
  },
  {
   "cell_type": "code",
   "execution_count": 9,
   "id": "784d5b8b-9fb5-41ee-9d59-efeb10ae9b37",
   "metadata": {},
   "outputs": [
    {
     "data": {
      "text/plain": [
       "True"
      ]
     },
     "execution_count": 9,
     "metadata": {},
     "output_type": "execute_result"
    }
   ],
   "source": [
    "bool(1)"
   ]
  },
  {
   "cell_type": "code",
   "execution_count": 11,
   "id": "a70d1afe-a8dd-4868-b455-862c03f6e34e",
   "metadata": {},
   "outputs": [
    {
     "data": {
      "text/plain": [
       "'23'"
      ]
     },
     "execution_count": 11,
     "metadata": {},
     "output_type": "execute_result"
    }
   ],
   "source": [
    "str(23)"
   ]
  },
  {
   "cell_type": "code",
   "execution_count": 12,
   "id": "71978ee2-722e-49f6-9f76-9b2b2b84d692",
   "metadata": {},
   "outputs": [
    {
     "data": {
      "text/plain": [
       "int"
      ]
     },
     "execution_count": 12,
     "metadata": {},
     "output_type": "execute_result"
    }
   ],
   "source": [
    "type(23)"
   ]
  },
  {
   "cell_type": "code",
   "execution_count": 13,
   "id": "b4ba7e9c-e5a3-4803-8404-154db69c08d6",
   "metadata": {},
   "outputs": [
    {
     "data": {
      "text/plain": [
       "23"
      ]
     },
     "execution_count": 13,
     "metadata": {},
     "output_type": "execute_result"
    }
   ],
   "source": [
    "int(23)"
   ]
  },
  {
   "cell_type": "code",
   "execution_count": 15,
   "id": "a23fd1b4-ebdf-4dd6-9fb1-2ffcd3150dd9",
   "metadata": {},
   "outputs": [
    {
     "name": "stdout",
     "output_type": "stream",
     "text": [
      "True\n"
     ]
    }
   ],
   "source": [
    "a=1\n",
    "if bool(a)==True:\n",
    "    print(\"True\")"
   ]
  },
  {
   "cell_type": "code",
   "execution_count": 16,
   "id": "29569160-d125-43a3-9391-bfcc3a53e84e",
   "metadata": {},
   "outputs": [],
   "source": [
    "## dynamic typing\n",
    "a=12\n",
    "str1=\"british\"\n",
    "a=\"var\""
   ]
  },
  {
   "cell_type": "code",
   "execution_count": 17,
   "id": "424e35a4-6b58-4f2e-b569-7f96ba8bfcd7",
   "metadata": {},
   "outputs": [
    {
     "name": "stdout",
     "output_type": "stream",
     "text": [
      "<class 'str'>\n"
     ]
    }
   ],
   "source": [
    "print(type(a))"
   ]
  },
  {
   "cell_type": "code",
   "execution_count": null,
   "id": "20e5c746-9b98-4340-b1a2-9ecbf7419027",
   "metadata": {},
   "outputs": [],
   "source": [
    "str a=33"
   ]
  },
  {
   "cell_type": "code",
   "execution_count": 18,
   "id": "e1b9868e-e37c-4a8e-b9f2-011dbe7b2d51",
   "metadata": {},
   "outputs": [
    {
     "name": "stdout",
     "output_type": "stream",
     "text": [
      "<class 'str'>\n"
     ]
    }
   ],
   "source": [
    "print(type(a))"
   ]
  },
  {
   "cell_type": "code",
   "execution_count": null,
   "id": "736621b7-e507-427a-8a21-45cb21be5e54",
   "metadata": {},
   "outputs": [],
   "source": [
    "# concantination between different types"
   ]
  },
  {
   "cell_type": "code",
   "execution_count": 24,
   "id": "25584348-84b6-4579-aeaf-c4a41ceb7b2a",
   "metadata": {},
   "outputs": [
    {
     "data": {
      "text/plain": [
       "'13'"
      ]
     },
     "execution_count": 24,
     "metadata": {},
     "output_type": "execute_result"
    }
   ],
   "source": [
    "\"1\"+\"3\""
   ]
  },
  {
   "cell_type": "code",
   "execution_count": 26,
   "id": "d3f1ae09-55ec-45b6-9716-d2ea4912793d",
   "metadata": {},
   "outputs": [
    {
     "data": {
      "text/plain": [
       "'2222222222222222222222222222222222222222222222222222222222222222222222222222222222222222222222222222'"
      ]
     },
     "execution_count": 26,
     "metadata": {},
     "output_type": "execute_result"
    }
   ],
   "source": [
    "\"2\"*100"
   ]
  },
  {
   "cell_type": "code",
   "execution_count": 27,
   "id": "a5eb91be-ac82-4dfd-b5a3-345399aa9c3b",
   "metadata": {},
   "outputs": [
    {
     "data": {
      "text/plain": [
       "4"
      ]
     },
     "execution_count": 27,
     "metadata": {},
     "output_type": "execute_result"
    }
   ],
   "source": [
    "int(\"1\")+int(\"3\")"
   ]
  },
  {
   "cell_type": "code",
   "execution_count": 28,
   "id": "de30d634-38dc-4906-a63e-1356cbcdc6e0",
   "metadata": {},
   "outputs": [
    {
     "ename": "SyntaxError",
     "evalue": "invalid syntax (47807980.py, line 1)",
     "output_type": "error",
     "traceback": [
      "\u001b[0;36m  Cell \u001b[0;32mIn[28], line 1\u001b[0;36m\u001b[0m\n\u001b[0;31m    int(\"1\")+int\"3\"\u001b[0m\n\u001b[0m                ^\u001b[0m\n\u001b[0;31mSyntaxError\u001b[0m\u001b[0;31m:\u001b[0m invalid syntax\n"
     ]
    }
   ],
   "source": [
    "int(\"1\")+int\"3\""
   ]
  },
  {
   "cell_type": "code",
   "execution_count": null,
   "id": "46f3ab4b-29ed-4ba2-8afa-c7a0b021de09",
   "metadata": {},
   "outputs": [],
   "source": []
  }
 ],
 "metadata": {
  "kernelspec": {
   "display_name": "Python 3 (ipykernel)",
   "language": "python",
   "name": "python3"
  },
  "language_info": {
   "codemirror_mode": {
    "name": "ipython",
    "version": 3
   },
   "file_extension": ".py",
   "mimetype": "text/x-python",
   "name": "python",
   "nbconvert_exporter": "python",
   "pygments_lexer": "ipython3",
   "version": "3.10.8"
  }
 },
 "nbformat": 4,
 "nbformat_minor": 5
}
